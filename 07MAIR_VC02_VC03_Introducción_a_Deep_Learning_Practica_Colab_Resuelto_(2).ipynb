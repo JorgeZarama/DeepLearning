{
  "nbformat": 4,
  "nbformat_minor": 0,
  "metadata": {
    "colab": {
      "provenance": [],
      "include_colab_link": true
    },
    "kernelspec": {
      "name": "python3",
      "display_name": "Python 3"
    },
    "accelerator": "GPU"
  },
  "cells": [
    {
      "cell_type": "markdown",
      "metadata": {
        "id": "view-in-github",
        "colab_type": "text"
      },
      "source": [
        "<a href=\"https://colab.research.google.com/github/JorgeZarama/DeepLearning/blob/main/07MAIR_VC02_VC03_Introducci%C3%B3n_a_Deep_Learning_Practica_Colab_Resuelto_(2).ipynb\" target=\"_parent\"><img src=\"https://colab.research.google.com/assets/colab-badge.svg\" alt=\"Open In Colab\"/></a>"
      ]
    },
    {
      "cell_type": "markdown",
      "metadata": {
        "id": "e-Xr73DZ8CGE"
      },
      "source": [
        "## **NUESTRA PRIMERA RED NEURONAL: MNIST DATASET**"
      ]
    },
    {
      "cell_type": "code",
      "metadata": {
        "id": "AMjhP1vDde1e",
        "colab": {
          "base_uri": "https://localhost:8080/"
        },
        "outputId": "8e3e180c-1391-4824-c48f-67a24fe94d6a"
      },
      "source": [
        "!pip freeze"
      ],
      "execution_count": 1,
      "outputs": [
        {
          "output_type": "stream",
          "name": "stdout",
          "text": [
            "absl-py==1.4.0\n",
            "aiohttp==3.8.6\n",
            "aiosignal==1.3.1\n",
            "alabaster==0.7.13\n",
            "albumentations==1.3.1\n",
            "altair==4.2.2\n",
            "anyio==3.7.1\n",
            "appdirs==1.4.4\n",
            "argon2-cffi==23.1.0\n",
            "argon2-cffi-bindings==21.2.0\n",
            "array-record==0.5.0\n",
            "arviz==0.15.1\n",
            "astropy==5.3.4\n",
            "astunparse==1.6.3\n",
            "async-timeout==4.0.3\n",
            "atpublic==4.0\n",
            "attrs==23.1.0\n",
            "audioread==3.0.1\n",
            "autograd==1.6.2\n",
            "Babel==2.13.1\n",
            "backcall==0.2.0\n",
            "beautifulsoup4==4.11.2\n",
            "bidict==0.22.1\n",
            "bigframes==0.10.0\n",
            "bleach==6.1.0\n",
            "blinker==1.4\n",
            "blis==0.7.11\n",
            "blosc2==2.0.0\n",
            "bokeh==3.2.2\n",
            "bqplot==0.12.42\n",
            "branca==0.6.0\n",
            "build==1.0.3\n",
            "CacheControl==0.13.1\n",
            "cachetools==5.3.2\n",
            "catalogue==2.0.10\n",
            "certifi==2023.7.22\n",
            "cffi==1.16.0\n",
            "chardet==5.2.0\n",
            "charset-normalizer==3.3.1\n",
            "chex==0.1.7\n",
            "click==8.1.7\n",
            "click-plugins==1.1.1\n",
            "cligj==0.7.2\n",
            "cloudpickle==2.2.1\n",
            "cmake==3.27.7\n",
            "cmdstanpy==1.2.0\n",
            "colorcet==3.0.1\n",
            "colorlover==0.3.0\n",
            "colour==0.1.5\n",
            "community==1.0.0b1\n",
            "confection==0.1.3\n",
            "cons==0.4.6\n",
            "contextlib2==21.6.0\n",
            "contourpy==1.1.1\n",
            "cryptography==41.0.5\n",
            "cufflinks==0.17.3\n",
            "cupy-cuda11x==11.0.0\n",
            "cvxopt==1.3.2\n",
            "cvxpy==1.3.2\n",
            "cycler==0.12.1\n",
            "cymem==2.0.8\n",
            "Cython==3.0.4\n",
            "dask==2023.8.1\n",
            "datascience==0.17.6\n",
            "db-dtypes==1.1.1\n",
            "dbus-python==1.2.18\n",
            "debugpy==1.6.6\n",
            "decorator==4.4.2\n",
            "defusedxml==0.7.1\n",
            "diskcache==5.6.3\n",
            "distributed==2023.8.1\n",
            "distro==1.7.0\n",
            "dlib==19.24.2\n",
            "dm-tree==0.1.8\n",
            "docutils==0.18.1\n",
            "dopamine-rl==4.0.6\n",
            "duckdb==0.8.1\n",
            "earthengine-api==0.1.375\n",
            "easydict==1.11\n",
            "ecos==2.0.12\n",
            "editdistance==0.6.2\n",
            "eerepr==0.0.4\n",
            "en-core-web-sm @ https://github.com/explosion/spacy-models/releases/download/en_core_web_sm-3.6.0/en_core_web_sm-3.6.0-py3-none-any.whl#sha256=83276fc78a70045627144786b52e1f2728ad5e29e5e43916ec37ea9c26a11212\n",
            "entrypoints==0.4\n",
            "et-xmlfile==1.1.0\n",
            "etils==1.5.2\n",
            "etuples==0.3.9\n",
            "exceptiongroup==1.1.3\n",
            "fastai==2.7.13\n",
            "fastcore==1.5.29\n",
            "fastdownload==0.0.7\n",
            "fastjsonschema==2.18.1\n",
            "fastprogress==1.0.3\n",
            "fastrlock==0.8.2\n",
            "filelock==3.12.4\n",
            "fiona==1.9.5\n",
            "firebase-admin==5.3.0\n",
            "Flask==2.2.5\n",
            "flatbuffers==23.5.26\n",
            "flax==0.7.4\n",
            "folium==0.14.0\n",
            "fonttools==4.43.1\n",
            "frozendict==2.3.8\n",
            "frozenlist==1.4.0\n",
            "fsspec==2023.6.0\n",
            "future==0.18.3\n",
            "gast==0.5.4\n",
            "gcsfs==2023.6.0\n",
            "GDAL==3.4.3\n",
            "gdown==4.6.6\n",
            "geemap==0.28.2\n",
            "gensim==4.3.2\n",
            "geocoder==1.38.1\n",
            "geographiclib==2.0\n",
            "geopandas==0.13.2\n",
            "geopy==2.3.0\n",
            "gin-config==0.5.0\n",
            "glob2==0.7\n",
            "google==2.0.3\n",
            "google-api-core==2.11.1\n",
            "google-api-python-client==2.84.0\n",
            "google-auth==2.17.3\n",
            "google-auth-httplib2==0.1.1\n",
            "google-auth-oauthlib==1.0.0\n",
            "google-cloud-bigquery==3.12.0\n",
            "google-cloud-bigquery-connection==1.12.1\n",
            "google-cloud-bigquery-storage==2.22.0\n",
            "google-cloud-core==2.3.3\n",
            "google-cloud-datastore==2.15.2\n",
            "google-cloud-firestore==2.11.1\n",
            "google-cloud-functions==1.13.3\n",
            "google-cloud-iam==2.12.2\n",
            "google-cloud-language==2.9.1\n",
            "google-cloud-resource-manager==1.10.4\n",
            "google-cloud-storage==2.8.0\n",
            "google-cloud-translate==3.11.3\n",
            "google-colab @ file:///colabtools/dist/google-colab-1.0.0.tar.gz#sha256=840b68ab91172cd01b4b48ca4b48fb1916e15b1e6cc74cdb3ad9bf40932339c5\n",
            "google-crc32c==1.5.0\n",
            "google-pasta==0.2.0\n",
            "google-resumable-media==2.6.0\n",
            "googleapis-common-protos==1.61.0\n",
            "googledrivedownloader==0.4\n",
            "graphviz==0.20.1\n",
            "greenlet==3.0.0\n",
            "grpc-google-iam-v1==0.12.6\n",
            "grpcio==1.59.0\n",
            "grpcio-status==1.48.2\n",
            "gspread==3.4.2\n",
            "gspread-dataframe==3.3.1\n",
            "gym==0.25.2\n",
            "gym-notices==0.0.8\n",
            "h5netcdf==1.2.0\n",
            "h5py==3.9.0\n",
            "holidays==0.35\n",
            "holoviews==1.17.1\n",
            "html5lib==1.1\n",
            "httpimport==1.3.1\n",
            "httplib2==0.22.0\n",
            "humanize==4.7.0\n",
            "hyperopt==0.2.7\n",
            "ibis-framework==6.2.0\n",
            "idna==3.4\n",
            "imageio==2.31.6\n",
            "imageio-ffmpeg==0.4.9\n",
            "imagesize==1.4.1\n",
            "imbalanced-learn==0.10.1\n",
            "imgaug==0.4.0\n",
            "importlib-metadata==6.8.0\n",
            "importlib-resources==6.1.0\n",
            "imutils==0.5.4\n",
            "inflect==7.0.0\n",
            "iniconfig==2.0.0\n",
            "install==1.3.5\n",
            "intel-openmp==2023.2.0\n",
            "ipyevents==2.0.2\n",
            "ipyfilechooser==0.6.0\n",
            "ipykernel==5.5.6\n",
            "ipyleaflet==0.17.4\n",
            "ipython==7.34.0\n",
            "ipython-genutils==0.2.0\n",
            "ipython-sql==0.5.0\n",
            "ipytree==0.2.2\n",
            "ipywidgets==7.7.1\n",
            "itsdangerous==2.1.2\n",
            "jax==0.4.16\n",
            "jaxlib @ https://storage.googleapis.com/jax-releases/cuda11/jaxlib-0.4.16+cuda11.cudnn86-cp310-cp310-manylinux2014_x86_64.whl#sha256=78b3a9acfda4bfaae8a1dc112995d56454020f5c02dba4d24c40c906332efd4a\n",
            "jeepney==0.7.1\n",
            "jieba==0.42.1\n",
            "Jinja2==3.1.2\n",
            "joblib==1.3.2\n",
            "jsonpickle==3.0.2\n",
            "jsonschema==4.19.1\n",
            "jsonschema-specifications==2023.7.1\n",
            "jupyter-client==6.1.12\n",
            "jupyter-console==6.1.0\n",
            "jupyter-server==1.24.0\n",
            "jupyter_core==5.4.0\n",
            "jupyterlab-pygments==0.2.2\n",
            "jupyterlab-widgets==3.0.9\n",
            "kaggle==1.5.16\n",
            "keras==2.14.0\n",
            "keyring==23.5.0\n",
            "kiwisolver==1.4.5\n",
            "langcodes==3.3.0\n",
            "launchpadlib==1.10.16\n",
            "lazr.restfulclient==0.14.4\n",
            "lazr.uri==1.0.6\n",
            "lazy_loader==0.3\n",
            "libclang==16.0.6\n",
            "librosa==0.10.1\n",
            "lida==0.0.10\n",
            "lightgbm==4.1.0\n",
            "linkify-it-py==2.0.2\n",
            "llmx==0.0.15a0\n",
            "llvmlite==0.39.1\n",
            "locket==1.0.0\n",
            "logical-unification==0.4.6\n",
            "lxml==4.9.3\n",
            "malloy==2023.1058\n",
            "Markdown==3.5\n",
            "markdown-it-py==3.0.0\n",
            "MarkupSafe==2.1.3\n",
            "matplotlib==3.7.1\n",
            "matplotlib-inline==0.1.6\n",
            "matplotlib-venn==0.11.9\n",
            "mdit-py-plugins==0.4.0\n",
            "mdurl==0.1.2\n",
            "miniKanren==1.0.3\n",
            "missingno==0.5.2\n",
            "mistune==0.8.4\n",
            "mizani==0.9.3\n",
            "mkl==2023.2.0\n",
            "ml-dtypes==0.2.0\n",
            "mlxtend==0.22.0\n",
            "more-itertools==10.1.0\n",
            "moviepy==1.0.3\n",
            "mpmath==1.3.0\n",
            "msgpack==1.0.7\n",
            "multidict==6.0.4\n",
            "multipledispatch==1.0.0\n",
            "multitasking==0.0.11\n",
            "murmurhash==1.0.10\n",
            "music21==9.1.0\n",
            "natsort==8.4.0\n",
            "nbclassic==1.0.0\n",
            "nbclient==0.8.0\n",
            "nbconvert==6.5.4\n",
            "nbformat==5.9.2\n",
            "nest-asyncio==1.5.8\n",
            "networkx==3.2\n",
            "nibabel==4.0.2\n",
            "nltk==3.8.1\n",
            "notebook==6.5.5\n",
            "notebook_shim==0.2.3\n",
            "numba==0.56.4\n",
            "numexpr==2.8.7\n",
            "numpy==1.23.5\n",
            "oauth2client==4.1.3\n",
            "oauthlib==3.2.2\n",
            "opencv-contrib-python==4.8.0.76\n",
            "opencv-python==4.8.0.76\n",
            "opencv-python-headless==4.8.1.78\n",
            "openpyxl==3.1.2\n",
            "opt-einsum==3.3.0\n",
            "optax==0.1.7\n",
            "orbax-checkpoint==0.4.1\n",
            "osqp==0.6.2.post8\n",
            "packaging==23.2\n",
            "pandas==1.5.3\n",
            "pandas-datareader==0.10.0\n",
            "pandas-gbq==0.17.9\n",
            "pandas-stubs==1.5.3.230304\n",
            "pandocfilters==1.5.0\n",
            "panel==1.3.0\n",
            "param==2.0.0\n",
            "parso==0.8.3\n",
            "parsy==2.1\n",
            "partd==1.4.1\n",
            "pathlib==1.0.1\n",
            "pathy==0.10.3\n",
            "patsy==0.5.3\n",
            "peewee==3.17.0\n",
            "pexpect==4.8.0\n",
            "pickleshare==0.7.5\n",
            "Pillow==9.4.0\n",
            "pip-tools==6.13.0\n",
            "platformdirs==3.11.0\n",
            "plotly==5.15.0\n",
            "plotnine==0.12.3\n",
            "pluggy==1.3.0\n",
            "polars==0.17.3\n",
            "pooch==1.8.0\n",
            "portpicker==1.5.2\n",
            "prefetch-generator==1.0.3\n",
            "preshed==3.0.9\n",
            "prettytable==3.9.0\n",
            "proglog==0.1.10\n",
            "progressbar2==4.2.0\n",
            "prometheus-client==0.17.1\n",
            "promise==2.3\n",
            "prompt-toolkit==3.0.39\n",
            "prophet==1.1.5\n",
            "proto-plus==1.22.3\n",
            "protobuf==3.20.3\n",
            "psutil==5.9.5\n",
            "psycopg2==2.9.9\n",
            "ptyprocess==0.7.0\n",
            "py-cpuinfo==9.0.0\n",
            "py4j==0.10.9.7\n",
            "pyarrow==9.0.0\n",
            "pyasn1==0.5.0\n",
            "pyasn1-modules==0.3.0\n",
            "pycocotools==2.0.7\n",
            "pycparser==2.21\n",
            "pyct==0.5.0\n",
            "pydantic==1.10.13\n",
            "pydata-google-auth==1.8.2\n",
            "pydot==1.4.2\n",
            "pydot-ng==2.0.0\n",
            "pydotplus==2.0.2\n",
            "PyDrive==1.3.1\n",
            "PyDrive2==1.6.3\n",
            "pyerfa==2.0.1.1\n",
            "pygame==2.5.2\n",
            "Pygments==2.16.1\n",
            "PyGObject==3.42.1\n",
            "PyJWT==2.3.0\n",
            "pymc==5.7.2\n",
            "pymystem3==0.2.0\n",
            "PyOpenGL==3.1.7\n",
            "pyOpenSSL==23.2.0\n",
            "pyparsing==3.1.1\n",
            "pyperclip==1.8.2\n",
            "pyproj==3.6.1\n",
            "pyproject_hooks==1.0.0\n",
            "pyshp==2.3.1\n",
            "PySocks==1.7.1\n",
            "pytensor==2.14.2\n",
            "pytest==7.4.3\n",
            "python-apt==0.0.0\n",
            "python-box==7.1.1\n",
            "python-dateutil==2.8.2\n",
            "python-louvain==0.16\n",
            "python-slugify==8.0.1\n",
            "python-utils==3.8.1\n",
            "pytz==2023.3.post1\n",
            "pyviz_comms==3.0.0\n",
            "PyWavelets==1.4.1\n",
            "PyYAML==6.0.1\n",
            "pyzmq==23.2.1\n",
            "qdldl==0.1.7.post0\n",
            "qudida==0.0.4\n",
            "ratelim==0.1.6\n",
            "referencing==0.30.2\n",
            "regex==2023.6.3\n",
            "requests==2.31.0\n",
            "requests-oauthlib==1.3.1\n",
            "requirements-parser==0.5.0\n",
            "rich==13.6.0\n",
            "rpds-py==0.10.6\n",
            "rpy2==3.4.2\n",
            "rsa==4.9\n",
            "scikit-image==0.19.3\n",
            "scikit-learn==1.2.2\n",
            "scipy==1.11.3\n",
            "scooby==0.9.2\n",
            "scs==3.2.3\n",
            "seaborn==0.12.2\n",
            "SecretStorage==3.3.1\n",
            "Send2Trash==1.8.2\n",
            "shapely==2.0.2\n",
            "six==1.16.0\n",
            "sklearn-pandas==2.2.0\n",
            "smart-open==6.4.0\n",
            "sniffio==1.3.0\n",
            "snowballstemmer==2.2.0\n",
            "sortedcontainers==2.4.0\n",
            "soundfile==0.12.1\n",
            "soupsieve==2.5\n",
            "soxr==0.3.7\n",
            "spacy==3.6.1\n",
            "spacy-legacy==3.0.12\n",
            "spacy-loggers==1.0.5\n",
            "Sphinx==5.0.2\n",
            "sphinxcontrib-applehelp==1.0.7\n",
            "sphinxcontrib-devhelp==1.0.5\n",
            "sphinxcontrib-htmlhelp==2.0.4\n",
            "sphinxcontrib-jsmath==1.0.1\n",
            "sphinxcontrib-qthelp==1.0.6\n",
            "sphinxcontrib-serializinghtml==1.1.9\n",
            "SQLAlchemy==2.0.22\n",
            "sqlglot==17.16.2\n",
            "sqlparse==0.4.4\n",
            "srsly==2.4.8\n",
            "stanio==0.3.0\n",
            "statsmodels==0.14.0\n",
            "sympy==1.12\n",
            "tables==3.8.0\n",
            "tabulate==0.9.0\n",
            "tbb==2021.10.0\n",
            "tblib==3.0.0\n",
            "tenacity==8.2.3\n",
            "tensorboard==2.14.1\n",
            "tensorboard-data-server==0.7.2\n",
            "tensorflow==2.14.0\n",
            "tensorflow-datasets==4.9.3\n",
            "tensorflow-estimator==2.14.0\n",
            "tensorflow-gcs-config==2.14.0\n",
            "tensorflow-hub==0.15.0\n",
            "tensorflow-io-gcs-filesystem==0.34.0\n",
            "tensorflow-metadata==1.14.0\n",
            "tensorflow-probability==0.22.0\n",
            "tensorstore==0.1.45\n",
            "termcolor==2.3.0\n",
            "terminado==0.17.1\n",
            "text-unidecode==1.3\n",
            "textblob==0.17.1\n",
            "tf-slim==1.1.0\n",
            "thinc==8.1.12\n",
            "threadpoolctl==3.2.0\n",
            "tifffile==2023.9.26\n",
            "tinycss2==1.2.1\n",
            "toml==0.10.2\n",
            "tomli==2.0.1\n",
            "toolz==0.12.0\n",
            "torch @ https://download.pytorch.org/whl/cu118/torch-2.1.0%2Bcu118-cp310-cp310-linux_x86_64.whl#sha256=a81b554184492005543ddc32e96469f9369d778dedd195d73bda9bed407d6589\n",
            "torchaudio @ https://download.pytorch.org/whl/cu118/torchaudio-2.1.0%2Bcu118-cp310-cp310-linux_x86_64.whl#sha256=cdfd0a129406155eee595f408cafbb92589652da4090d1d2040f5453d4cae71f\n",
            "torchdata==0.7.0\n",
            "torchsummary==1.5.1\n",
            "torchtext==0.16.0\n",
            "torchvision @ https://download.pytorch.org/whl/cu118/torchvision-0.16.0%2Bcu118-cp310-cp310-linux_x86_64.whl#sha256=033712f65d45afe806676c4129dfe601ad1321d9e092df62b15847c02d4061dc\n",
            "tornado==6.3.2\n",
            "tqdm==4.66.1\n",
            "traitlets==5.7.1\n",
            "traittypes==0.2.1\n",
            "triton==2.1.0\n",
            "tweepy==4.13.0\n",
            "typer==0.9.0\n",
            "types-pytz==2023.3.1.1\n",
            "types-setuptools==68.2.0.0\n",
            "typing_extensions==4.5.0\n",
            "tzlocal==5.2\n",
            "uc-micro-py==1.0.2\n",
            "uritemplate==4.1.1\n",
            "urllib3==2.0.7\n",
            "vega-datasets==0.9.0\n",
            "wadllib==1.3.6\n",
            "wasabi==1.1.2\n",
            "wcwidth==0.2.8\n",
            "webcolors==1.13\n",
            "webencodings==0.5.1\n",
            "websocket-client==1.6.4\n",
            "Werkzeug==3.0.1\n",
            "widgetsnbextension==3.6.6\n",
            "wordcloud==1.9.2\n",
            "wrapt==1.14.1\n",
            "xarray==2023.7.0\n",
            "xarray-einstats==0.6.0\n",
            "xgboost==2.0.1\n",
            "xlrd==2.0.1\n",
            "xxhash==3.4.1\n",
            "xyzservices==2023.10.0\n",
            "yarl==1.9.2\n",
            "yellowbrick==1.5\n",
            "yfinance==0.2.31\n",
            "zict==3.0.0\n",
            "zipp==3.17.0\n"
          ]
        }
      ]
    },
    {
      "cell_type": "markdown",
      "metadata": {
        "id": "BGr4or3pd8Ql"
      },
      "source": [
        "Hola voy a ejecutar el comando ```!pip freeze``` para cotillear a Google Colab"
      ]
    },
    {
      "cell_type": "code",
      "metadata": {
        "id": "76L_IBAfwr5y",
        "colab": {
          "base_uri": "https://localhost:8080/",
          "height": 36
        },
        "outputId": "382e007f-0e5e-4c36-f5a9-d73283df6f9b"
      },
      "source": [
        "#Importemos TensorFlow 2.X y Numpy\n",
        "import numpy as np\n",
        "import tensorflow as tf\n",
        "tf.__version__"
      ],
      "execution_count": 1,
      "outputs": [
        {
          "output_type": "execute_result",
          "data": {
            "text/plain": [
              "'2.14.0'"
            ],
            "application/vnd.google.colaboratory.intrinsic+json": {
              "type": "string"
            }
          },
          "metadata": {},
          "execution_count": 1
        }
      ]
    },
    {
      "cell_type": "markdown",
      "metadata": {
        "id": "Cm6TBi8k8pnq"
      },
      "source": [
        "#### **- Cargando el conjunto de datos**"
      ]
    },
    {
      "cell_type": "code",
      "metadata": {
        "id": "Q97EgDoewMWu",
        "colab": {
          "base_uri": "https://localhost:8080/"
        },
        "outputId": "45833595-0267-420d-b72e-9403aada955c"
      },
      "source": [
        "# Importamos el dataset MNIST y cargamos los datos\n",
        "mnist = tf.keras.datasets.mnist\n",
        "(x_train, y_train), (x_test, y_test) = mnist.load_data()\n",
        "print(x_train.shape)\n",
        "print(y_train.shape)\n",
        "print(x_test.shape)\n",
        "print(y_test.shape)"
      ],
      "execution_count": 2,
      "outputs": [
        {
          "output_type": "stream",
          "name": "stdout",
          "text": [
            "Downloading data from https://storage.googleapis.com/tensorflow/tf-keras-datasets/mnist.npz\n",
            "11490434/11490434 [==============================] - 0s 0us/step\n",
            "(60000, 28, 28)\n",
            "(60000,)\n",
            "(10000, 28, 28)\n",
            "(10000,)\n"
          ]
        }
      ]
    },
    {
      "cell_type": "markdown",
      "metadata": {
        "id": "UHWTjTJe80h7"
      },
      "source": [
        "#### **- Inspeccionando el conjunto de datos**"
      ]
    },
    {
      "cell_type": "code",
      "metadata": {
        "id": "yQydjXExS1hI",
        "colab": {
          "base_uri": "https://localhost:8080/",
          "height": 1000
        },
        "outputId": "7f32de0b-ead5-49f6-e190-569437188f16"
      },
      "source": [
        "import matplotlib.pyplot as plt\n",
        "# Función auxiliar para visualizar datos de entrenamiento de manera aleatoria\n",
        "def display_digit(num):\n",
        "  # Seleccionar la imagen num de mnist.train.images y hacer un reshape al tamaño de la imagen\n",
        "  image = x_train[num,:,:]\n",
        "  # Seleccionar el target num de mnist.train.labels\n",
        "  label = y_train[num]\n",
        "  # Mostrar\n",
        "  plt.title('Example: %d  Label: %d' % (num, label))\n",
        "  plt.imshow(image, cmap=plt.get_cmap('gray_r'))\n",
        "  plt.show()\n",
        "\n",
        "# Mostramos algunos ejemplos\n",
        "display_digit(np.random.randint(0, x_train.shape[0]))\n",
        "display_digit(np.random.randint(0, x_train.shape[0]))\n",
        "display_digit(np.random.randint(0, x_train.shape[0]))"
      ],
      "execution_count": 3,
      "outputs": [
        {
          "output_type": "display_data",
          "data": {
            "text/plain": [
              "<Figure size 640x480 with 1 Axes>"
            ],
            "image/png": "[encoded data removed]"
          },
          "metadata": {}
        },
        {
          "output_type": "display_data",
          "data": {
            "text/plain": [
              "<Figure size 640x480 with 1 Axes>"
            ],
            "image/png": "[encoded data removed]"
          },
          "metadata": {}
        },
        {
          "output_type": "display_data",
          "data": {
            "text/plain": [
              "<Figure size 640x480 with 1 Axes>"
            ],
            "image/png": "[encoded data removed]"
          },
          "metadata": {}
        }
      ]
    },
    {
      "cell_type": "markdown",
      "metadata": {
        "id": "meo3FjAr85We"
      },
      "source": [
        "#### **- Acondicionando el conjunto de datos**"
      ]
    },
    {
      "cell_type": "code",
      "metadata": {
        "id": "PrtVcOxow_JA",
        "colab": {
          "base_uri": "https://localhost:8080/"
        },
        "outputId": "3c266c3a-67c4-400f-eaf5-4592f1099a56"
      },
      "source": [
        "# Pre-procesado obligatorio cuando trabajo con redes neuronales\n",
        "from tensorflow.keras.utils import to_categorical\n",
        "from sklearn.model_selection import train_test_split\n",
        "\n",
        "x_train, x_te = x_train / 255.0, x_test / 255.0 #Cambio al rango 0-1 -> Disminuyo CC\n",
        "y_train = to_categorical(y_train, num_classes=10) #One-hot encoding para minimizar error\n",
        "print(y_train.shape)\n",
        "y_te = to_categorical(y_test, num_classes=10)\n",
        "x_tr, x_val, y_tr, y_val = train_test_split(x_train, y_train, test_size=0.1, random_state=42) # 3 subconjuntos es de vital importancia\n",
        "print(y_tr.shape)\n",
        "# print(y_tr[0])"
      ],
      "execution_count": 4,
      "outputs": [
        {
          "output_type": "stream",
          "name": "stdout",
          "text": [
            "(60000, 10)\n",
            "(54000, 10)\n"
          ]
        }
      ]
    },
    {
      "cell_type": "code",
      "metadata": {
        "colab": {
          "base_uri": "https://localhost:8080/"
        },
        "id": "erZKA-oWj85E",
        "outputId": "6626b7fa-5759-401f-cdb5-0cc20f6483f7"
      },
      "source": [
        "print(y_tr[37].shape)\n",
        "print(y_tr[37])"
      ],
      "execution_count": 5,
      "outputs": [
        {
          "output_type": "stream",
          "name": "stdout",
          "text": [
            "(10,)\n",
            "[0. 0. 1. 0. 0. 0. 0. 0. 0. 0.]\n"
          ]
        }
      ]
    },
    {
      "cell_type": "code",
      "metadata": {
        "id": "q010WRGbLI5P",
        "colab": {
          "base_uri": "https://localhost:8080/"
        },
        "outputId": "0f834551-3091-4c1b-be7b-d5d43e4c53d4"
      },
      "source": [
        "print(y_tr[37].argmax(axis=0))"
      ],
      "execution_count": 6,
      "outputs": [
        {
          "output_type": "stream",
          "name": "stdout",
          "text": [
            "2\n"
          ]
        }
      ]
    },
    {
      "cell_type": "markdown",
      "metadata": {
        "id": "YBO56FZh89P3"
      },
      "source": [
        "#### **- Creando la topología de Red Neuronal (MLP) y entrenándola**"
      ]
    },
    {
      "cell_type": "code",
      "metadata": {
        "id": "7O8gSDXgyo4-"
      },
      "source": [
        "# Voy a necesitar importar una serie de modulos para programar mi red neuronal\n",
        "from tensorflow.keras.models import Sequential\n",
        "from tensorflow.keras.layers import Dense, Flatten\n",
        "# Vamos a codificar la topología de nuestra primera red neuronal!!!\n",
        "model = Sequential()\n",
        "model.add(Flatten())\n",
        "model.add(Dense(512, input_shape=(28*28,), activation=\"relu\"))\n",
        "model.add(Dense(10, activation=\"softmax\")) #Capa salida -> Mismo número de neuronas que de clases objetivo\n",
        "\n",
        "# Ahí tenemos nuestro primer MLP con una única capa oculta de 512 neuronas"
      ],
      "execution_count": 7,
      "outputs": []
    },
    {
      "cell_type": "code",
      "metadata": {
        "id": "y0x4icp30SGE"
      },
      "source": [
        "#Traigamos nuestro optimizador\n",
        "from tensorflow.keras.optimizers import SGD\n",
        "# Ahora que tengo definida la arquitectura, la compilo\n",
        "optimizer =  optimizer=SGD(0.005)\n"
      ],
      "execution_count": 8,
      "outputs": []
    },
    {
      "cell_type": "code",
      "source": [
        "model.compile(loss=\"categorical_crossentropy\", optimizer=optimizer, metrics=[\"accuracy\"])"
      ],
      "metadata": {
        "id": "Q7U9oHroKiVI"
      },
      "execution_count": 9,
      "outputs": []
    },
    {
      "cell_type": "code",
      "metadata": {
        "id": "iSWwUUWM1W7a",
        "colab": {
          "base_uri": "https://localhost:8080/"
        },
        "outputId": "12eba4f2-d0f8-441f-8466-ad2f80591f69"
      },
      "source": [
        "# Por fin podemos entrenar nuestra primera red neuronal\n",
        "print(\"[INFO]: Entrenando red neuronal...\")\n",
        "H = model.fit(x_tr, y_tr, validation_data=(x_val, y_val), epochs=50, batch_size=128)"
      ],
      "execution_count": 10,
      "outputs": [
        {
          "output_type": "stream",
          "name": "stdout",
          "text": [
            "[INFO]: Entrenando red neuronal...\n",
            "Epoch 1/50\n",
            "422/422 [==============================] - 10s 11ms/step - loss: 1.5237 - accuracy: 0.6499 - val_loss: 1.0044 - val_accuracy: 0.8040\n",
            "Epoch 2/50\n",
            "422/422 [==============================] - 3s 7ms/step - loss: 0.8032 - accuracy: 0.8322 - val_loss: 0.6712 - val_accuracy: 0.8510\n",
            "Epoch 3/50\n",
            "422/422 [==============================] - 3s 6ms/step - loss: 0.6010 - accuracy: 0.8602 - val_loss: 0.5462 - val_accuracy: 0.8680\n",
            "Epoch 4/50\n",
            "422/422 [==============================] - 3s 6ms/step - loss: 0.5116 - accuracy: 0.8739 - val_loss: 0.4799 - val_accuracy: 0.8775\n",
            "Epoch 5/50\n",
            "422/422 [==============================] - 3s 8ms/step - loss: 0.4604 - accuracy: 0.8822 - val_loss: 0.4383 - val_accuracy: 0.8853\n",
            "Epoch 6/50\n",
            "422/422 [==============================] - 3s 6ms/step - loss: 0.4264 - accuracy: 0.8887 - val_loss: 0.4091 - val_accuracy: 0.8907\n",
            "Epoch 7/50\n",
            "422/422 [==============================] - 3s 6ms/step - loss: 0.4020 - accuracy: 0.8933 - val_loss: 0.3878 - val_accuracy: 0.8953\n",
            "Epoch 8/50\n",
            "422/422 [==============================] - 3s 6ms/step - loss: 0.3834 - accuracy: 0.8974 - val_loss: 0.3707 - val_accuracy: 0.8992\n",
            "Epoch 9/50\n",
            "422/422 [==============================] - 3s 7ms/step - loss: 0.3683 - accuracy: 0.9000 - val_loss: 0.3568 - val_accuracy: 0.9015\n",
            "Epoch 10/50\n",
            "422/422 [==============================] - 4s 8ms/step - loss: 0.3558 - accuracy: 0.9030 - val_loss: 0.3457 - val_accuracy: 0.9057\n",
            "Epoch 11/50\n",
            "422/422 [==============================] - 2s 5ms/step - loss: 0.3451 - accuracy: 0.9052 - val_loss: 0.3354 - val_accuracy: 0.9060\n",
            "Epoch 12/50\n",
            "422/422 [==============================] - 2s 4ms/step - loss: 0.3357 - accuracy: 0.9071 - val_loss: 0.3269 - val_accuracy: 0.9088\n",
            "Epoch 13/50\n",
            "422/422 [==============================] - 1s 4ms/step - loss: 0.3276 - accuracy: 0.9092 - val_loss: 0.3190 - val_accuracy: 0.9112\n",
            "Epoch 14/50\n",
            "422/422 [==============================] - 2s 4ms/step - loss: 0.3201 - accuracy: 0.9103 - val_loss: 0.3116 - val_accuracy: 0.9125\n",
            "Epoch 15/50\n",
            "422/422 [==============================] - 2s 4ms/step - loss: 0.3133 - accuracy: 0.9123 - val_loss: 0.3058 - val_accuracy: 0.9143\n",
            "Epoch 16/50\n",
            "422/422 [==============================] - 2s 4ms/step - loss: 0.3071 - accuracy: 0.9143 - val_loss: 0.2995 - val_accuracy: 0.9163\n",
            "Epoch 17/50\n",
            "422/422 [==============================] - 2s 5ms/step - loss: 0.3013 - accuracy: 0.9156 - val_loss: 0.2940 - val_accuracy: 0.9190\n",
            "Epoch 18/50\n",
            "422/422 [==============================] - 2s 4ms/step - loss: 0.2959 - accuracy: 0.9170 - val_loss: 0.2892 - val_accuracy: 0.9205\n",
            "Epoch 19/50\n",
            "422/422 [==============================] - 2s 4ms/step - loss: 0.2909 - accuracy: 0.9187 - val_loss: 0.2844 - val_accuracy: 0.9222\n",
            "Epoch 20/50\n",
            "422/422 [==============================] - 2s 4ms/step - loss: 0.2860 - accuracy: 0.9197 - val_loss: 0.2802 - val_accuracy: 0.9242\n",
            "Epoch 21/50\n",
            "422/422 [==============================] - 2s 6ms/step - loss: 0.2815 - accuracy: 0.9211 - val_loss: 0.2762 - val_accuracy: 0.9250\n",
            "Epoch 22/50\n",
            "422/422 [==============================] - 2s 4ms/step - loss: 0.2772 - accuracy: 0.9227 - val_loss: 0.2720 - val_accuracy: 0.9252\n",
            "Epoch 23/50\n",
            "422/422 [==============================] - 2s 4ms/step - loss: 0.2731 - accuracy: 0.9236 - val_loss: 0.2684 - val_accuracy: 0.9263\n",
            "Epoch 24/50\n",
            "422/422 [==============================] - 2s 5ms/step - loss: 0.2692 - accuracy: 0.9246 - val_loss: 0.2644 - val_accuracy: 0.9273\n",
            "Epoch 25/50\n",
            "422/422 [==============================] - 2s 4ms/step - loss: 0.2654 - accuracy: 0.9260 - val_loss: 0.2608 - val_accuracy: 0.9283\n",
            "Epoch 26/50\n",
            "422/422 [==============================] - 2s 4ms/step - loss: 0.2618 - accuracy: 0.9269 - val_loss: 0.2573 - val_accuracy: 0.9287\n",
            "Epoch 27/50\n",
            "422/422 [==============================] - 2s 4ms/step - loss: 0.2582 - accuracy: 0.9281 - val_loss: 0.2545 - val_accuracy: 0.9293\n",
            "Epoch 28/50\n",
            "422/422 [==============================] - 2s 4ms/step - loss: 0.2549 - accuracy: 0.9294 - val_loss: 0.2516 - val_accuracy: 0.9305\n",
            "Epoch 29/50\n",
            "422/422 [==============================] - 2s 4ms/step - loss: 0.2516 - accuracy: 0.9302 - val_loss: 0.2484 - val_accuracy: 0.9338\n",
            "Epoch 30/50\n",
            "422/422 [==============================] - 2s 4ms/step - loss: 0.2485 - accuracy: 0.9316 - val_loss: 0.2455 - val_accuracy: 0.9330\n",
            "Epoch 31/50\n",
            "422/422 [==============================] - 2s 5ms/step - loss: 0.2454 - accuracy: 0.9324 - val_loss: 0.2424 - val_accuracy: 0.9333\n",
            "Epoch 32/50\n",
            "422/422 [==============================] - 2s 4ms/step - loss: 0.2424 - accuracy: 0.9330 - val_loss: 0.2398 - val_accuracy: 0.9348\n",
            "Epoch 33/50\n",
            "422/422 [==============================] - 2s 4ms/step - loss: 0.2395 - accuracy: 0.9336 - val_loss: 0.2375 - val_accuracy: 0.9348\n",
            "Epoch 34/50\n",
            "422/422 [==============================] - 2s 4ms/step - loss: 0.2368 - accuracy: 0.9344 - val_loss: 0.2351 - val_accuracy: 0.9355\n",
            "Epoch 35/50\n",
            "422/422 [==============================] - 2s 4ms/step - loss: 0.2340 - accuracy: 0.9356 - val_loss: 0.2323 - val_accuracy: 0.9355\n",
            "Epoch 36/50\n",
            "422/422 [==============================] - 2s 4ms/step - loss: 0.2314 - accuracy: 0.9360 - val_loss: 0.2297 - val_accuracy: 0.9362\n",
            "Epoch 37/50\n",
            "422/422 [==============================] - 2s 4ms/step - loss: 0.2287 - accuracy: 0.9365 - val_loss: 0.2275 - val_accuracy: 0.9367\n",
            "Epoch 38/50\n",
            "422/422 [==============================] - 2s 4ms/step - loss: 0.2262 - accuracy: 0.9371 - val_loss: 0.2254 - val_accuracy: 0.9373\n",
            "Epoch 39/50\n",
            "422/422 [==============================] - 2s 5ms/step - loss: 0.2237 - accuracy: 0.9382 - val_loss: 0.2231 - val_accuracy: 0.9382\n",
            "Epoch 40/50\n",
            "422/422 [==============================] - 2s 4ms/step - loss: 0.2214 - accuracy: 0.9387 - val_loss: 0.2207 - val_accuracy: 0.9385\n",
            "Epoch 41/50\n",
            "422/422 [==============================] - 2s 4ms/step - loss: 0.2190 - accuracy: 0.9393 - val_loss: 0.2186 - val_accuracy: 0.9392\n",
            "Epoch 42/50\n",
            "422/422 [==============================] - 2s 4ms/step - loss: 0.2166 - accuracy: 0.9400 - val_loss: 0.2169 - val_accuracy: 0.9398\n",
            "Epoch 43/50\n",
            "422/422 [==============================] - 2s 4ms/step - loss: 0.2143 - accuracy: 0.9406 - val_loss: 0.2148 - val_accuracy: 0.9395\n",
            "Epoch 44/50\n",
            "422/422 [==============================] - 2s 4ms/step - loss: 0.2122 - accuracy: 0.9415 - val_loss: 0.2128 - val_accuracy: 0.9418\n",
            "Epoch 45/50\n",
            "422/422 [==============================] - 2s 4ms/step - loss: 0.2100 - accuracy: 0.9419 - val_loss: 0.2107 - val_accuracy: 0.9422\n",
            "Epoch 46/50\n",
            "422/422 [==============================] - 2s 5ms/step - loss: 0.2078 - accuracy: 0.9426 - val_loss: 0.2089 - val_accuracy: 0.9427\n",
            "Epoch 47/50\n",
            "422/422 [==============================] - 2s 4ms/step - loss: 0.2058 - accuracy: 0.9432 - val_loss: 0.2068 - val_accuracy: 0.9428\n",
            "Epoch 48/50\n",
            "422/422 [==============================] - 1s 4ms/step - loss: 0.2037 - accuracy: 0.9440 - val_loss: 0.2052 - val_accuracy: 0.9428\n",
            "Epoch 49/50\n",
            "422/422 [==============================] - 2s 4ms/step - loss: 0.2017 - accuracy: 0.9446 - val_loss: 0.2035 - val_accuracy: 0.9427\n",
            "Epoch 50/50\n",
            "422/422 [==============================] - 2s 4ms/step - loss: 0.1998 - accuracy: 0.9448 - val_loss: 0.2017 - val_accuracy: 0.9438\n"
          ]
        }
      ]
    },
    {
      "cell_type": "markdown",
      "metadata": {
        "id": "EtR8fpxq9JRG"
      },
      "source": [
        "#### **- Observando el proceso de entrenamiento para tomar decisiones**"
      ]
    },
    {
      "cell_type": "code",
      "metadata": {
        "id": "R7OoJts-122A",
        "colab": {
          "base_uri": "https://localhost:8080/",
          "height": 494
        },
        "outputId": "bf2977e6-bbf8-494f-b462-1678db51212c"
      },
      "source": [
        "# Muestro gráfica de accuracy y losses\n",
        "plt.style.use(\"ggplot\")\n",
        "plt.figure()\n",
        "plt.plot(np.arange(0, 50), H.history[\"loss\"], label=\"train_loss\")\n",
        "plt.plot(np.arange(0, 50), H.history[\"val_loss\"], label=\"val_loss\")\n",
        "plt.plot(np.arange(0, 50), H.history[\"accuracy\"], label=\"train_acc\")\n",
        "plt.plot(np.arange(0, 50), H.history[\"val_accuracy\"], label=\"val_acc\")\n",
        "plt.title(\"Training Loss and Accuracy\")\n",
        "plt.xlabel(\"Epoch #\")\n",
        "plt.ylabel(\"Loss/Accuracy\")\n",
        "plt.legend()"
      ],
      "execution_count": 11,
      "outputs": [
        {
          "output_type": "execute_result",
          "data": {
            "text/plain": [
              "<matplotlib.legend.Legend at 0x7fec201e3070>"
            ]
          },
          "metadata": {},
          "execution_count": 11
        },
        {
          "output_type": "display_data",
          "data": {
            "text/plain": [
              "<Figure size 640x480 with 1 Axes>"
            ],
            "image/png": "[encoded data removed]"
          },
          "metadata": {}
        }
      ]
    },
    {
      "cell_type": "markdown",
      "metadata": {
        "id": "7ll4EzHI9Of5"
      },
      "source": [
        "#### **- Probando el conjunto de datos en el subset de test y evaluando el performance del modelo**"
      ]
    },
    {
      "cell_type": "code",
      "metadata": {
        "id": "7J38sfBN742h",
        "colab": {
          "base_uri": "https://localhost:8080/"
        },
        "outputId": "dc57fa47-1f72-473c-9a69-40979eb76c00"
      },
      "source": [
        "from sklearn.metrics import classification_report\n",
        "# Evaluando el modelo de predicción con las imágenes de test\n",
        "print(\"[INFO]: Evaluando red neuronal...\")\n",
        "predictions = model.predict(x_te, batch_size=128)\n",
        "print(y_te[0])\n",
        "print(predictions[0])\n",
        "print(classification_report(y_te.argmax(axis=1), predictions.argmax(axis=1)))"
      ],
      "execution_count": 12,
      "outputs": [
        {
          "output_type": "stream",
          "name": "stdout",
          "text": [
            "[INFO]: Evaluando red neuronal...\n",
            "79/79 [==============================] - 0s 2ms/step\n",
            "[0. 0. 0. 0. 0. 0. 0. 1. 0. 0.]\n",
            "[1.5800951e-04 2.1866752e-07 2.6085970e-04 1.6278626e-03 1.6269864e-06\n",
            " 5.9490812e-05 2.5685511e-08 9.9729711e-01 2.4287810e-05 5.7052332e-04]\n",
            "              precision    recall  f1-score   support\n",
            "\n",
            "           0       0.96      0.98      0.97       980\n",
            "           1       0.98      0.98      0.98      1135\n",
            "           2       0.95      0.94      0.94      1032\n",
            "           3       0.93      0.94      0.93      1010\n",
            "           4       0.93      0.95      0.94       982\n",
            "           5       0.94      0.91      0.92       892\n",
            "           6       0.94      0.96      0.95       958\n",
            "           7       0.95      0.93      0.94      1028\n",
            "           8       0.93      0.92      0.93       974\n",
            "           9       0.94      0.92      0.93      1009\n",
            "\n",
            "    accuracy                           0.94     10000\n",
            "   macro avg       0.94      0.94      0.94     10000\n",
            "weighted avg       0.94      0.94      0.94     10000\n",
            "\n"
          ]
        }
      ]
    },
    {
      "cell_type": "code",
      "metadata": {
        "id": "jnH0BudjoWag",
        "colab": {
          "base_uri": "https://localhost:8080/"
        },
        "outputId": "e9b14c3b-10a4-47de-836d-5a4106556425"
      },
      "source": [
        "print(model.summary())"
      ],
      "execution_count": 13,
      "outputs": [
        {
          "output_type": "stream",
          "name": "stdout",
          "text": [
            "Model: \"sequential\"\n",
            "_________________________________________________________________\n",
            " Layer (type)                Output Shape              Param #   \n",
            "=================================================================\n",
            " flatten (Flatten)           (None, 784)               0         \n",
            "                                                                 \n",
            " dense (Dense)               (None, 512)               401920    \n",
            "                                                                 \n",
            " dense_1 (Dense)             (None, 10)                5130      \n",
            "                                                                 \n",
            "=================================================================\n",
            "Total params: 407050 (1.55 MB)\n",
            "Trainable params: 407050 (1.55 MB)\n",
            "Non-trainable params: 0 (0.00 Byte)\n",
            "_________________________________________________________________\n",
            "None\n"
          ]
        }
      ]
    },
    {
      "cell_type": "markdown",
      "metadata": {
        "id": "zQ5iYaP4-TdJ"
      },
      "source": [
        "--------------------------------------------------------------------------"
      ]
    },
    {
      "cell_type": "markdown",
      "metadata": {
        "id": "gkAfYEmB-KGU"
      },
      "source": [
        "## **MLP APLICADO A TEXTO: EJEMPLO REUTERS**"
      ]
    },
    {
      "cell_type": "markdown",
      "metadata": {
        "id": "rtdAIq1JQPNA"
      },
      "source": [
        "#### **- Cargando el conjunto de datos**"
      ]
    },
    {
      "cell_type": "code",
      "metadata": {
        "id": "2mHvSYFm-Sp_",
        "colab": {
          "base_uri": "https://localhost:8080/"
        },
        "outputId": "a1f9dc5a-aeaf-4684-db0b-a52531bf2d78"
      },
      "source": [
        "import numpy as np\n",
        "import tensorflow as tf\n",
        "# Importamos el dataset REUTERS y cargamos los datos\n",
        "reuters = tf.keras.datasets.reuters\n",
        "WORD_LIMIT = 10000\n",
        "(training_data, training_labels), (testing_data, testing_labels) = reuters.load_data(num_words=WORD_LIMIT)\n",
        "print(training_data.shape)\n",
        "print(training_labels.shape)\n",
        "print(testing_data.shape)\n",
        "print(testing_labels.shape)"
      ],
      "execution_count": 14,
      "outputs": [
        {
          "output_type": "stream",
          "name": "stdout",
          "text": [
            "Downloading data from https://storage.googleapis.com/tensorflow/tf-keras-datasets/reuters.npz\n",
            "2110848/2110848 [==============================] - 0s 0us/step\n",
            "(8982,)\n",
            "(8982,)\n",
            "(2246,)\n",
            "(2246,)\n"
          ]
        }
      ]
    },
    {
      "cell_type": "markdown",
      "metadata": {
        "id": "426afMQqQUxn"
      },
      "source": [
        "#### **- Inspeccionando el conjunto de datos**"
      ]
    },
    {
      "cell_type": "code",
      "metadata": {
        "id": "Ab4lT3HI-reW",
        "colab": {
          "base_uri": "https://localhost:8080/",
          "height": 122
        },
        "outputId": "1c75dead-b5fc-46a8-d919-ccf7363c6270"
      },
      "source": [
        "# Los datos son numericos para decodificarlos, se puede usar reuters.get_word_index()\n",
        "word_index = reuters.get_word_index()\n",
        "reverse_word_index = dict({value : key for key, value in word_index.items()})\n",
        "decoded = ' '.join(\n",
        "    [reverse_word_index.get(i-3,'?') for i in training_data[5248]]\n",
        ")\n",
        "decoded"
      ],
      "execution_count": 15,
      "outputs": [
        {
          "output_type": "stream",
          "name": "stdout",
          "text": [
            "Downloading data from https://storage.googleapis.com/tensorflow/tf-keras-datasets/reuters_word_index.json\n",
            "550378/550378 [==============================] - 0s 0us/step\n"
          ]
        },
        {
          "output_type": "execute_result",
          "data": {
            "text/plain": [
              "'? ? oil corp said it has completed a ? well on its ? ? in jefferson davis ? la which is currently producing at a rate of 1 1 mln cubic feet of gas and 40 barrels of condensate daily the company said it has a 20 pct working interest in the well which is flowing from lower ? ? sand ? between 10 104 and 10 110 feet additional ? but possibly productive zones exist behind the pipe it added it said the remaining owners are privately held petroleum companies reuter 3'"
            ],
            "application/vnd.google.colaboratory.intrinsic+json": {
              "type": "string"
            }
          },
          "metadata": {},
          "execution_count": 15
        }
      ]
    },
    {
      "cell_type": "markdown",
      "metadata": {
        "id": "Hl1Ke92bQiI2"
      },
      "source": [
        "#### **- Acondicionando el conjunto de datos**"
      ]
    },
    {
      "cell_type": "code",
      "metadata": {
        "id": "I5ojr41ZAE6G"
      },
      "source": [
        "# Función auxiliar para representar las palabras (que no entiende nuestra red neuronal) en números\n",
        "import numpy as np\n",
        "# one hot encoding del input, vector con cada indice indicando si una palabra esta presente\n",
        "def one_hot_encode(data):\n",
        "    encoded = np.zeros((len(data),WORD_LIMIT))\n",
        "    for i, v in enumerate(data):\n",
        "        encoded[i,v] = 1 # localiza las columnas del genero correspondiente, marca con 1\n",
        "    return encoded"
      ],
      "execution_count": 16,
      "outputs": []
    },
    {
      "cell_type": "code",
      "metadata": {
        "id": "4wubOmYpBgAY",
        "colab": {
          "base_uri": "https://localhost:8080/"
        },
        "outputId": "ae33e54a-8c43-47ff-afef-d5854e842148"
      },
      "source": [
        "# Convertimos nuestras palabras a números\n",
        "x_train = one_hot_encode(training_data)\n",
        "x_test = one_hot_encode(testing_data)\n",
        "print(x_train.shape)\n",
        "print(x_test.shape)"
      ],
      "execution_count": 17,
      "outputs": [
        {
          "output_type": "stream",
          "name": "stdout",
          "text": [
            "(8982, 10000)\n",
            "(2246, 10000)\n"
          ]
        }
      ]
    },
    {
      "cell_type": "code",
      "metadata": {
        "id": "_fdTGJavvsv-",
        "colab": {
          "base_uri": "https://localhost:8080/"
        },
        "outputId": "e3c27574-dc52-4895-84a0-bc91b4128ff5"
      },
      "source": [
        "print(x_test[3])"
      ],
      "execution_count": 18,
      "outputs": [
        {
          "output_type": "stream",
          "name": "stdout",
          "text": [
            "[0. 1. 1. ... 0. 0. 0.]\n"
          ]
        }
      ]
    },
    {
      "cell_type": "code",
      "metadata": {
        "id": "dliil59FByFv",
        "colab": {
          "base_uri": "https://localhost:8080/"
        },
        "outputId": "a44e6c35-7823-451c-c16c-976913e20fb2"
      },
      "source": [
        "# Convertimos nuestros labels (categoría reseña) a one-hot encoding\n",
        "from tensorflow.keras.utils import to_categorical\n",
        "y_train = to_categorical(training_labels)\n",
        "y_test = to_categorical(testing_labels)\n",
        "print(y_train.shape)\n",
        "print(y_test.shape)"
      ],
      "execution_count": 19,
      "outputs": [
        {
          "output_type": "stream",
          "name": "stdout",
          "text": [
            "(8982, 46)\n",
            "(2246, 46)\n"
          ]
        }
      ]
    },
    {
      "cell_type": "code",
      "metadata": {
        "id": "G0SGmbI7uYlx",
        "colab": {
          "base_uri": "https://localhost:8080/"
        },
        "outputId": "f3e4ceb4-c400-484e-967d-01146c6d98c4"
      },
      "source": [
        "print(y_test[3])"
      ],
      "execution_count": 20,
      "outputs": [
        {
          "output_type": "stream",
          "name": "stdout",
          "text": [
            "[0. 0. 0. 0. 1. 0. 0. 0. 0. 0. 0. 0. 0. 0. 0. 0. 0. 0. 0. 0. 0. 0. 0. 0.\n",
            " 0. 0. 0. 0. 0. 0. 0. 0. 0. 0. 0. 0. 0. 0. 0. 0. 0. 0. 0. 0. 0. 0.]\n"
          ]
        }
      ]
    },
    {
      "cell_type": "markdown",
      "metadata": {
        "id": "qf2H-OHKQrGN"
      },
      "source": [
        "#### **- Creando la topología de Red Neuronal (MLP) y entrenándola**"
      ]
    },
    {
      "cell_type": "markdown",
      "source": [],
      "metadata": {
        "id": "TBqrJcxjaPDG"
      }
    },
    {
      "cell_type": "code",
      "metadata": {
        "id": "QSR1GEq0_Ebm"
      },
      "source": [
        "from tensorflow.keras.models import Sequential\n",
        "from tensorflow.keras.layers import Dense\n",
        "# Vamos a codificar la topología de nuestro MLP\n",
        "model = Sequential()\n",
        "model.add(Dense(128,activation='relu',input_shape=(WORD_LIMIT,)))\n",
        "model.add(Dense(64,activation='relu'))\n",
        "model.add(Dense(46,activation='softmax')) # Reparto de la unidad de probabilidad entre num_classes"
      ],
      "execution_count": 21,
      "outputs": []
    },
    {
      "cell_type": "code",
      "metadata": {
        "id": "POnCbSEzCI7o"
      },
      "source": [
        "# Ahora que tengo definida la arquitectura, la compilo\n",
        "model.compile(optimizer='adam',\n",
        "               loss='categorical_crossentropy', # ideal para clasificacion multiclase\n",
        "               metrics=['accuracy'])"
      ],
      "execution_count": 22,
      "outputs": []
    },
    {
      "cell_type": "code",
      "metadata": {
        "id": "VZBvK2HjDCaZ",
        "colab": {
          "base_uri": "https://localhost:8080/"
        },
        "outputId": "b8e15bbc-1a5a-4bd3-9597-46186549b43a"
      },
      "source": [
        "# A entrenar nuestra red neuronal sea dicho!\n",
        "H = model.fit(x_train,y_train,epochs=20,batch_size=32, validation_split=0.2)"
      ],
      "execution_count": 23,
      "outputs": [
        {
          "output_type": "stream",
          "name": "stdout",
          "text": [
            "Epoch 1/20\n",
            "225/225 [==============================] - 3s 6ms/step - loss: 1.4624 - accuracy: 0.6793 - val_loss: 1.0000 - val_accuracy: 0.7913\n",
            "Epoch 2/20\n",
            "225/225 [==============================] - 1s 5ms/step - loss: 0.5583 - accuracy: 0.8781 - val_loss: 0.8659 - val_accuracy: 0.8108\n",
            "Epoch 3/20\n",
            "225/225 [==============================] - 1s 5ms/step - loss: 0.2675 - accuracy: 0.9421 - val_loss: 0.9031 - val_accuracy: 0.8041\n",
            "Epoch 4/20\n",
            "225/225 [==============================] - 1s 5ms/step - loss: 0.1940 - accuracy: 0.9530 - val_loss: 0.9155 - val_accuracy: 0.7980\n",
            "Epoch 5/20\n",
            "225/225 [==============================] - 1s 5ms/step - loss: 0.1576 - accuracy: 0.9578 - val_loss: 0.9168 - val_accuracy: 0.8080\n",
            "Epoch 6/20\n",
            "225/225 [==============================] - 1s 5ms/step - loss: 0.1364 - accuracy: 0.9588 - val_loss: 0.9745 - val_accuracy: 0.8063\n",
            "Epoch 7/20\n",
            "225/225 [==============================] - 1s 6ms/step - loss: 0.1280 - accuracy: 0.9589 - val_loss: 0.9920 - val_accuracy: 0.8030\n",
            "Epoch 8/20\n",
            "225/225 [==============================] - 2s 7ms/step - loss: 0.1148 - accuracy: 0.9601 - val_loss: 0.9687 - val_accuracy: 0.8024\n",
            "Epoch 9/20\n",
            "225/225 [==============================] - 1s 5ms/step - loss: 0.1112 - accuracy: 0.9612 - val_loss: 0.9987 - val_accuracy: 0.8058\n",
            "Epoch 10/20\n",
            "225/225 [==============================] - 1s 5ms/step - loss: 0.1061 - accuracy: 0.9601 - val_loss: 1.0201 - val_accuracy: 0.8052\n",
            "Epoch 11/20\n",
            "225/225 [==============================] - 1s 5ms/step - loss: 0.0969 - accuracy: 0.9614 - val_loss: 1.0327 - val_accuracy: 0.8069\n",
            "Epoch 12/20\n",
            "225/225 [==============================] - 1s 6ms/step - loss: 0.0944 - accuracy: 0.9623 - val_loss: 1.0466 - val_accuracy: 0.8080\n",
            "Epoch 13/20\n",
            "225/225 [==============================] - 1s 5ms/step - loss: 0.0946 - accuracy: 0.9617 - val_loss: 1.1087 - val_accuracy: 0.7980\n",
            "Epoch 14/20\n",
            "225/225 [==============================] - 1s 4ms/step - loss: 0.0885 - accuracy: 0.9606 - val_loss: 1.0951 - val_accuracy: 0.8097\n",
            "Epoch 15/20\n",
            "225/225 [==============================] - 1s 4ms/step - loss: 0.0847 - accuracy: 0.9614 - val_loss: 1.1134 - val_accuracy: 0.8019\n",
            "Epoch 16/20\n",
            "225/225 [==============================] - 1s 5ms/step - loss: 0.0853 - accuracy: 0.9603 - val_loss: 1.1221 - val_accuracy: 0.7969\n",
            "Epoch 17/20\n",
            "225/225 [==============================] - 1s 5ms/step - loss: 0.0816 - accuracy: 0.9621 - val_loss: 1.1173 - val_accuracy: 0.8069\n",
            "Epoch 18/20\n",
            "225/225 [==============================] - 1s 6ms/step - loss: 0.0821 - accuracy: 0.9628 - val_loss: 1.1393 - val_accuracy: 0.8030\n",
            "Epoch 19/20\n",
            "225/225 [==============================] - 1s 6ms/step - loss: 0.0776 - accuracy: 0.9621 - val_loss: 1.1375 - val_accuracy: 0.8047\n",
            "Epoch 20/20\n",
            "225/225 [==============================] - 1s 7ms/step - loss: 0.0730 - accuracy: 0.9617 - val_loss: 1.2693 - val_accuracy: 0.7908\n"
          ]
        }
      ]
    },
    {
      "cell_type": "markdown",
      "metadata": {
        "id": "0WZi4xSxQwGR"
      },
      "source": [
        "#### **- Observando el proceso de entrenamiento para tomar decisiones**"
      ]
    },
    {
      "cell_type": "code",
      "metadata": {
        "id": "0dlv_bkZDVJ7",
        "colab": {
          "base_uri": "https://localhost:8080/",
          "height": 494
        },
        "outputId": "46e16282-1371-40ef-a76d-43bb93ca2b6a"
      },
      "source": [
        "import matplotlib.pyplot as plt\n",
        "# Muestro gráfica de accuracy y losses\n",
        "plt.style.use(\"ggplot\")\n",
        "plt.figure()\n",
        "plt.plot(np.arange(0, 20), H.history[\"loss\"], label=\"train_loss\")\n",
        "plt.plot(np.arange(0, 20), H.history[\"val_loss\"], label=\"val_loss\")\n",
        "plt.plot(np.arange(0, 20), H.history[\"accuracy\"], label=\"train_acc\")\n",
        "plt.plot(np.arange(0, 20), H.history[\"val_accuracy\"], label=\"val_acc\")\n",
        "plt.title(\"Training Loss and Accuracy\")\n",
        "plt.xlabel(\"Epoch #\")\n",
        "plt.ylabel(\"Loss/Accuracy\")\n",
        "plt.legend()"
      ],
      "execution_count": 24,
      "outputs": [
        {
          "output_type": "execute_result",
          "data": {
            "text/plain": [
              "<matplotlib.legend.Legend at 0x7fec201c0490>"
            ]
          },
          "metadata": {},
          "execution_count": 24
        },
        {
          "output_type": "display_data",
          "data": {
            "text/plain": [
              "<Figure size 640x480 with 1 Axes>"
            ],
            "image/png": "[encoded data removed]"
          },
          "metadata": {}
        }
      ]
    },
    {
      "cell_type": "markdown",
      "metadata": {
        "id": "c51cfGAQQ2cR"
      },
      "source": [
        "#### **- Probando el conjunto de datos en el subset de test y evaluando el performance del modelo**"
      ]
    },
    {
      "cell_type": "code",
      "metadata": {
        "id": "xVS5SAU5DlHP",
        "colab": {
          "base_uri": "https://localhost:8080/"
        },
        "outputId": "1e4374bc-29e4-4287-ab5f-7b4fb0b2d48b"
      },
      "source": [
        "# Evaluando el modelo de predicción con las imágenes de test\n",
        "print(\"[INFO]: Evaluando red neuronal...\")\n",
        "model.predict(x_test)\n",
        "loss, accuracy = model.evaluate(x_test, y_test)\n",
        "print('Loss {}, accuracy {}'.format(loss,accuracy))"
      ],
      "execution_count": 25,
      "outputs": [
        {
          "output_type": "stream",
          "name": "stdout",
          "text": [
            "[INFO]: Evaluando red neuronal...\n",
            "71/71 [==============================] - 0s 2ms/step\n",
            "71/71 [==============================] - 0s 3ms/step - loss: 1.3391 - accuracy: 0.7956\n",
            "Loss 1.3391343355178833, accuracy 0.7956367135047913\n"
          ]
        }
      ]
    },
    {
      "cell_type": "markdown",
      "metadata": {
        "id": "s8kmri-kUYgx"
      },
      "source": [
        "## **REGULARIZACIÓN EN APRENDIZAJE PROFUNDO**"
      ]
    },
    {
      "cell_type": "markdown",
      "metadata": {
        "id": "aqDYEumsUuNU"
      },
      "source": [
        "#### **- Weight regularization L1/L2**"
      ]
    },
    {
      "cell_type": "code",
      "metadata": {
        "id": "BF2YYooRUNph"
      },
      "source": [
        "from tensorflow.keras.models import Sequential\n",
        "from tensorflow.keras.layers import Dense\n",
        "from tensorflow.keras import regularizers\n",
        "# Vamos a codificar la topología de nuestro MLP\n",
        "model_reg = Sequential()\n",
        "model_reg.add(Dense(128,activation='relu', kernel_regularizer=regularizers.l2(0.001), input_shape=(WORD_LIMIT,)))\n",
        "model_reg.add(Dense(64,activation='relu', kernel_regularizer=regularizers.l2(0.001)))\n",
        "model_reg.add(Dense(46,activation='softmax')) # Reparto de la unidad de probabilidad entre num_classes"
      ],
      "execution_count": 42,
      "outputs": []
    },
    {
      "cell_type": "code",
      "metadata": {
        "id": "KYeK7jwxVSF3"
      },
      "source": [
        "# Ahora que tengo definida la arquitectura, la compilo\n",
        "model_reg.compile(optimizer='adam',\n",
        "               loss='categorical_crossentropy', # ideal para clasificacion multiclase\n",
        "               metrics=['accuracy'])"
      ],
      "execution_count": 43,
      "outputs": []
    },
    {
      "cell_type": "code",
      "metadata": {
        "id": "gWE7GTTmVdP0",
        "colab": {
          "base_uri": "https://localhost:8080/"
        },
        "outputId": "7f4a6e42-4b7a-4a9c-ef6a-c624f1abf4b8"
      },
      "source": [
        "# A entrenar nuestra red neuronal sea dicho!\n",
        "H = model_reg.fit(x_train,y_train,epochs=20,batch_size=32, validation_split=0.2)"
      ],
      "execution_count": 44,
      "outputs": [
        {
          "output_type": "stream",
          "name": "stdout",
          "text": [
            "Epoch 1/20\n",
            "225/225 [==============================] - 2s 7ms/step - loss: 1.6926 - accuracy: 0.6775 - val_loss: 1.2545 - val_accuracy: 0.7752\n",
            "Epoch 2/20\n",
            "225/225 [==============================] - 2s 7ms/step - loss: 0.9514 - accuracy: 0.8466 - val_loss: 1.2072 - val_accuracy: 0.7980\n",
            "Epoch 3/20\n",
            "225/225 [==============================] - 1s 6ms/step - loss: 0.7606 - accuracy: 0.9010 - val_loss: 1.1965 - val_accuracy: 0.7963\n",
            "Epoch 4/20\n",
            "225/225 [==============================] - 1s 5ms/step - loss: 0.6620 - accuracy: 0.9262 - val_loss: 1.2023 - val_accuracy: 0.8041\n",
            "Epoch 5/20\n",
            "225/225 [==============================] - 1s 5ms/step - loss: 0.6218 - accuracy: 0.9358 - val_loss: 1.2113 - val_accuracy: 0.8069\n",
            "Epoch 6/20\n",
            "225/225 [==============================] - 1s 4ms/step - loss: 0.6035 - accuracy: 0.9339 - val_loss: 1.2434 - val_accuracy: 0.7958\n",
            "Epoch 7/20\n",
            "225/225 [==============================] - 1s 4ms/step - loss: 0.5779 - accuracy: 0.9421 - val_loss: 1.2165 - val_accuracy: 0.8052\n",
            "Epoch 8/20\n",
            "225/225 [==============================] - 1s 5ms/step - loss: 0.5622 - accuracy: 0.9417 - val_loss: 1.2592 - val_accuracy: 0.7952\n",
            "Epoch 9/20\n",
            "225/225 [==============================] - 1s 5ms/step - loss: 0.5536 - accuracy: 0.9463 - val_loss: 1.2235 - val_accuracy: 0.7952\n",
            "Epoch 10/20\n",
            "225/225 [==============================] - 1s 5ms/step - loss: 0.5300 - accuracy: 0.9468 - val_loss: 1.2348 - val_accuracy: 0.7963\n",
            "Epoch 11/20\n",
            "225/225 [==============================] - 1s 5ms/step - loss: 0.5236 - accuracy: 0.9454 - val_loss: 1.2359 - val_accuracy: 0.8019\n",
            "Epoch 12/20\n",
            "225/225 [==============================] - 1s 6ms/step - loss: 0.5384 - accuracy: 0.9452 - val_loss: 1.2641 - val_accuracy: 0.7991\n",
            "Epoch 13/20\n",
            "225/225 [==============================] - 2s 7ms/step - loss: 0.5179 - accuracy: 0.9506 - val_loss: 1.2510 - val_accuracy: 0.7908\n",
            "Epoch 14/20\n",
            "225/225 [==============================] - 1s 5ms/step - loss: 0.5050 - accuracy: 0.9463 - val_loss: 1.2528 - val_accuracy: 0.7919\n",
            "Epoch 15/20\n",
            "225/225 [==============================] - 1s 5ms/step - loss: 0.5110 - accuracy: 0.9473 - val_loss: 1.3135 - val_accuracy: 0.7874\n",
            "Epoch 16/20\n",
            "225/225 [==============================] - 1s 5ms/step - loss: 0.4912 - accuracy: 0.9520 - val_loss: 1.3205 - val_accuracy: 0.7919\n",
            "Epoch 17/20\n",
            "225/225 [==============================] - 1s 5ms/step - loss: 0.4814 - accuracy: 0.9493 - val_loss: 1.2328 - val_accuracy: 0.7974\n",
            "Epoch 18/20\n",
            "225/225 [==============================] - 1s 5ms/step - loss: 0.4661 - accuracy: 0.9517 - val_loss: 1.2641 - val_accuracy: 0.7863\n",
            "Epoch 19/20\n",
            "225/225 [==============================] - 1s 6ms/step - loss: 0.4702 - accuracy: 0.9511 - val_loss: 1.2221 - val_accuracy: 0.7947\n",
            "Epoch 20/20\n",
            "225/225 [==============================] - 1s 5ms/step - loss: 0.4532 - accuracy: 0.9532 - val_loss: 1.2365 - val_accuracy: 0.7863\n"
          ]
        }
      ]
    },
    {
      "cell_type": "code",
      "metadata": {
        "id": "iJvo8YVvVowt",
        "colab": {
          "base_uri": "https://localhost:8080/",
          "height": 494
        },
        "outputId": "192c74b9-c3ff-460b-b713-2f221550cab7"
      },
      "source": [
        "import matplotlib.pyplot as plt\n",
        "# Muestro gráfica de accuracy y losses\n",
        "plt.style.use(\"ggplot\")\n",
        "plt.figure()\n",
        "plt.plot(np.arange(0, 20), H.history[\"loss\"], label=\"train_loss\")\n",
        "plt.plot(np.arange(0, 20), H.history[\"val_loss\"], label=\"val_loss\")\n",
        "plt.plot(np.arange(0, 20), H.history[\"accuracy\"], label=\"train_acc\")\n",
        "plt.plot(np.arange(0, 20), H.history[\"val_accuracy\"], label=\"val_acc\")\n",
        "plt.title(\"Training Loss and Accuracy\")\n",
        "plt.xlabel(\"Epoch #\")\n",
        "plt.ylabel(\"Loss/Accuracy\")\n",
        "plt.legend()"
      ],
      "execution_count": 45,
      "outputs": [
        {
          "output_type": "execute_result",
          "data": {
            "text/plain": [
              "<matplotlib.legend.Legend at 0x7feba5021a80>"
            ]
          },
          "metadata": {},
          "execution_count": 45
        },
        {
          "output_type": "display_data",
          "data": {
            "text/plain": [
              "<Figure size 640x480 with 1 Axes>"
            ],
            "image/png": "[encoded data removed]"
          },
          "metadata": {}
        }
      ]
    },
    {
      "cell_type": "code",
      "metadata": {
        "id": "h_68GciZWEml",
        "colab": {
          "base_uri": "https://localhost:8080/"
        },
        "outputId": "4053bb7b-c78e-4b90-af78-28810d6977f2"
      },
      "source": [
        "# Evaluando el modelo de predicción con las imágenes de test\n",
        "print(\"[INFO]: Evaluando red neuronal...\")\n",
        "model_reg.predict(x_test)\n",
        "loss, accuracy = model_reg.evaluate(x_test, y_test)\n",
        "print('Loss {}, accuracy {}'.format(loss,accuracy))"
      ],
      "execution_count": 30,
      "outputs": [
        {
          "output_type": "stream",
          "name": "stdout",
          "text": [
            "[INFO]: Evaluando red neuronal...\n",
            "71/71 [==============================] - 0s 2ms/step\n",
            "71/71 [==============================] - 0s 4ms/step - loss: 1.4787 - accuracy: 0.7605\n",
            "Loss 1.478725552558899, accuracy 0.7604630589485168\n"
          ]
        }
      ]
    },
    {
      "cell_type": "markdown",
      "metadata": {
        "id": "FKflRMxEWQ3Z"
      },
      "source": [
        "#### **- Dropout**"
      ]
    },
    {
      "cell_type": "code",
      "metadata": {
        "id": "iRcnwjCCWVcW"
      },
      "source": [
        "from tensorflow.keras.models import Sequential\n",
        "from tensorflow.keras.layers import Dense, Dropout\n",
        "# Vamos a codificar la topología de nuestro MLP\n",
        "model_drop = Sequential()\n",
        "model_drop.add(Dense(128,activation='relu', input_shape=(WORD_LIMIT,)))\n",
        "#model_drop.add(Dropout(0.5))\n",
        "model_drop.add(Dropout(0.75))#porcentaje de neuronas a desactivar recomendado 0.25 a 0.5\n",
        "model_drop.add(Dense(64,activation='relu'))\n",
        "#model_drop.add(Dropout(0.5))\n",
        "model_drop.add(Dropout(0.75))\n",
        "model_drop.add(Dense(46,activation='softmax')) # Reparto de la unidad de probabilidad entre num_classes"
      ],
      "execution_count": 49,
      "outputs": []
    },
    {
      "cell_type": "code",
      "metadata": {
        "id": "6K_X-SnoWnqL"
      },
      "source": [
        "# Ahora que tengo definida la arquitectura, la compilo\n",
        "model_drop.compile(optimizer='adam',\n",
        "               loss='categorical_crossentropy', # ideal para clasificacion multiclase\n",
        "               metrics=['accuracy'])"
      ],
      "execution_count": 50,
      "outputs": []
    },
    {
      "cell_type": "code",
      "metadata": {
        "id": "5GSMILsYWsT8",
        "colab": {
          "base_uri": "https://localhost:8080/"
        },
        "outputId": "03dfa2eb-8f2d-4a26-8908-ca93f8db12fa"
      },
      "source": [
        "# A entrenar nuestra red neuronal sea dicho!\n",
        "H = model_drop.fit(x_train,y_train,epochs=20,batch_size=32, validation_split=0.2)"
      ],
      "execution_count": 51,
      "outputs": [
        {
          "output_type": "stream",
          "name": "stdout",
          "text": [
            "Epoch 1/20\n",
            "225/225 [==============================] - 3s 7ms/step - loss: 2.5693 - accuracy: 0.3763 - val_loss: 1.7105 - val_accuracy: 0.5431\n",
            "Epoch 2/20\n",
            "225/225 [==============================] - 1s 5ms/step - loss: 1.8913 - accuracy: 0.5372 - val_loss: 1.5199 - val_accuracy: 0.6650\n",
            "Epoch 3/20\n",
            "225/225 [==============================] - 1s 5ms/step - loss: 1.7104 - accuracy: 0.5822 - val_loss: 1.4129 - val_accuracy: 0.7006\n",
            "Epoch 4/20\n",
            "225/225 [==============================] - 1s 5ms/step - loss: 1.6047 - accuracy: 0.6029 - val_loss: 1.3683 - val_accuracy: 0.7073\n",
            "Epoch 5/20\n",
            "225/225 [==============================] - 1s 5ms/step - loss: 1.5119 - accuracy: 0.6316 - val_loss: 1.3280 - val_accuracy: 0.7095\n",
            "Epoch 6/20\n",
            "225/225 [==============================] - 1s 5ms/step - loss: 1.4487 - accuracy: 0.6450 - val_loss: 1.3109 - val_accuracy: 0.7134\n",
            "Epoch 7/20\n",
            "225/225 [==============================] - 1s 5ms/step - loss: 1.3957 - accuracy: 0.6575 - val_loss: 1.2729 - val_accuracy: 0.7156\n",
            "Epoch 8/20\n",
            "225/225 [==============================] - 1s 6ms/step - loss: 1.3361 - accuracy: 0.6681 - val_loss: 1.2615 - val_accuracy: 0.7295\n",
            "Epoch 9/20\n",
            "225/225 [==============================] - 1s 5ms/step - loss: 1.2937 - accuracy: 0.6760 - val_loss: 1.2606 - val_accuracy: 0.7273\n",
            "Epoch 10/20\n",
            "225/225 [==============================] - 1s 6ms/step - loss: 1.2664 - accuracy: 0.6781 - val_loss: 1.2491 - val_accuracy: 0.7329\n",
            "Epoch 11/20\n",
            "225/225 [==============================] - 2s 7ms/step - loss: 1.2431 - accuracy: 0.6870 - val_loss: 1.2550 - val_accuracy: 0.7368\n",
            "Epoch 12/20\n",
            "225/225 [==============================] - 1s 5ms/step - loss: 1.2267 - accuracy: 0.6934 - val_loss: 1.2458 - val_accuracy: 0.7357\n",
            "Epoch 13/20\n",
            "225/225 [==============================] - 1s 5ms/step - loss: 1.1839 - accuracy: 0.6949 - val_loss: 1.2400 - val_accuracy: 0.7468\n",
            "Epoch 14/20\n",
            "225/225 [==============================] - 1s 5ms/step - loss: 1.1392 - accuracy: 0.6991 - val_loss: 1.2562 - val_accuracy: 0.7429\n",
            "Epoch 15/20\n",
            "225/225 [==============================] - 1s 5ms/step - loss: 1.1466 - accuracy: 0.7056 - val_loss: 1.2693 - val_accuracy: 0.7351\n",
            "Epoch 16/20\n",
            "225/225 [==============================] - 1s 5ms/step - loss: 1.1028 - accuracy: 0.7159 - val_loss: 1.2719 - val_accuracy: 0.7385\n",
            "Epoch 17/20\n",
            "225/225 [==============================] - 1s 5ms/step - loss: 1.1109 - accuracy: 0.7116 - val_loss: 1.2648 - val_accuracy: 0.7457\n",
            "Epoch 18/20\n",
            "225/225 [==============================] - 1s 5ms/step - loss: 1.0996 - accuracy: 0.7140 - val_loss: 1.2659 - val_accuracy: 0.7446\n",
            "Epoch 19/20\n",
            "225/225 [==============================] - 1s 5ms/step - loss: 1.0734 - accuracy: 0.7225 - val_loss: 1.2828 - val_accuracy: 0.7590\n",
            "Epoch 20/20\n",
            "225/225 [==============================] - 1s 5ms/step - loss: 1.0489 - accuracy: 0.7241 - val_loss: 1.3063 - val_accuracy: 0.7540\n"
          ]
        }
      ]
    },
    {
      "cell_type": "code",
      "metadata": {
        "id": "ACSQkFMtW2Eg",
        "colab": {
          "base_uri": "https://localhost:8080/",
          "height": 494
        },
        "outputId": "36670f2d-4dc0-4161-89b5-20eb9f58f317"
      },
      "source": [
        "import matplotlib.pyplot as plt\n",
        "# Muestro gráfica de accuracy y losses\n",
        "plt.style.use(\"ggplot\")\n",
        "plt.figure()\n",
        "plt.plot(np.arange(0, 20), H.history[\"loss\"], label=\"train_loss\")\n",
        "plt.plot(np.arange(0, 20), H.history[\"val_loss\"], label=\"val_loss\")\n",
        "plt.plot(np.arange(0, 20), H.history[\"accuracy\"], label=\"train_acc\")\n",
        "plt.plot(np.arange(0, 20), H.history[\"val_accuracy\"], label=\"val_acc\")\n",
        "plt.title(\"Training Loss and Accuracy\")\n",
        "plt.xlabel(\"Epoch #\")\n",
        "plt.ylabel(\"Loss/Accuracy\")\n",
        "plt.legend()\n",
        "\n",
        "# ¿Y si desconectamos mayor porcentaje de neuronas?"
      ],
      "execution_count": 52,
      "outputs": [
        {
          "output_type": "execute_result",
          "data": {
            "text/plain": [
              "<matplotlib.legend.Legend at 0x7feba59c2ad0>"
            ]
          },
          "metadata": {},
          "execution_count": 52
        },
        {
          "output_type": "display_data",
          "data": {
            "text/plain": [
              "<Figure size 640x480 with 1 Axes>"
            ],
            "image/png": "[encoded data removed]"
          },
          "metadata": {}
        }
      ]
    },
    {
      "cell_type": "code",
      "metadata": {
        "id": "KzK4LsLmW2es",
        "colab": {
          "base_uri": "https://localhost:8080/"
        },
        "outputId": "ea7538a5-295a-4153-c272-006824a404bc"
      },
      "source": [
        "# Evaluando el modelo de predicción con las imágenes de test\n",
        "print(\"[INFO]: Evaluando red neuronal...\")\n",
        "model_drop.predict(x_test)\n",
        "loss, accuracy = model_drop.evaluate(x_test, y_test)\n",
        "print('Loss {}, accuracy {}'.format(loss,accuracy))"
      ],
      "execution_count": 35,
      "outputs": [
        {
          "output_type": "stream",
          "name": "stdout",
          "text": [
            "[INFO]: Evaluando red neuronal...\n",
            "71/71 [==============================] - 0s 2ms/step\n",
            "71/71 [==============================] - 0s 3ms/step - loss: 1.4312 - accuracy: 0.7346\n",
            "Loss 1.4311742782592773, accuracy 0.7346393465995789\n"
          ]
        }
      ]
    },
    {
      "cell_type": "markdown",
      "metadata": {
        "id": "6iixwidpaJSH"
      },
      "source": [
        "#### **- Batch Normalization**"
      ]
    },
    {
      "cell_type": "code",
      "metadata": {
        "id": "kX7JV1leaJrj"
      },
      "source": [
        "from tensorflow.keras.models import Sequential\n",
        "from tensorflow.keras.layers import Dense, BatchNormalization\n",
        "# Vamos a codificar la topología de nuestro MLP\n",
        "model_bn = Sequential()\n",
        "model_bn.add(Dense(128,activation='relu', input_shape=(WORD_LIMIT,)))\n",
        "model_bn.add(BatchNormalization())\n",
        "model_bn.add(Dropout(0.75))\n",
        "model_bn.add(Dense(64,activation='relu'))\n",
        "model_bn.add(BatchNormalization())\n",
        "model_bn.add(Dropout(0.75))\n",
        "model_bn.add(Dense(46,activation='softmax')) # Reparto de la unidad de probabilidad entre num_classes"
      ],
      "execution_count": 53,
      "outputs": []
    },
    {
      "cell_type": "code",
      "metadata": {
        "id": "iEW9qiRzbtpk"
      },
      "source": [
        "# Ahora que tengo definida la arquitectura, la compilo\n",
        "model_bn.compile(optimizer='adam',\n",
        "               loss='categorical_crossentropy', # ideal para clasificacion multiclase\n",
        "               metrics=['accuracy'])"
      ],
      "execution_count": 54,
      "outputs": []
    },
    {
      "cell_type": "code",
      "metadata": {
        "id": "Ey72ZUlJbwPK",
        "colab": {
          "base_uri": "https://localhost:8080/"
        },
        "outputId": "82ac65d3-fa67-402f-999f-ef2d17a63b9c"
      },
      "source": [
        "# A entrenar nuestra red neuronal sea dicho!\n",
        "H = model_bn.fit(x_train,y_train,epochs=20,batch_size=32, validation_split=0.2)"
      ],
      "execution_count": 55,
      "outputs": [
        {
          "output_type": "stream",
          "name": "stdout",
          "text": [
            "Epoch 1/20\n",
            "225/225 [==============================] - 5s 10ms/step - loss: 3.3957 - accuracy: 0.3166 - val_loss: 1.8520 - val_accuracy: 0.5999\n",
            "Epoch 2/20\n",
            "225/225 [==============================] - 2s 7ms/step - loss: 2.1196 - accuracy: 0.5516 - val_loss: 1.4656 - val_accuracy: 0.6811\n",
            "Epoch 3/20\n",
            "225/225 [==============================] - 1s 6ms/step - loss: 1.8085 - accuracy: 0.6025 - val_loss: 1.3777 - val_accuracy: 0.6978\n",
            "Epoch 4/20\n",
            "225/225 [==============================] - 2s 7ms/step - loss: 1.6625 - accuracy: 0.6299 - val_loss: 1.3119 - val_accuracy: 0.7084\n",
            "Epoch 5/20\n",
            "225/225 [==============================] - 2s 7ms/step - loss: 1.5622 - accuracy: 0.6468 - val_loss: 1.2768 - val_accuracy: 0.7084\n",
            "Epoch 6/20\n",
            "225/225 [==============================] - 1s 6ms/step - loss: 1.4547 - accuracy: 0.6664 - val_loss: 1.2359 - val_accuracy: 0.7190\n",
            "Epoch 7/20\n",
            "225/225 [==============================] - 2s 7ms/step - loss: 1.3910 - accuracy: 0.6757 - val_loss: 1.2083 - val_accuracy: 0.7190\n",
            "Epoch 8/20\n",
            "225/225 [==============================] - 2s 9ms/step - loss: 1.3332 - accuracy: 0.6913 - val_loss: 1.1934 - val_accuracy: 0.7268\n",
            "Epoch 9/20\n",
            "225/225 [==============================] - 2s 7ms/step - loss: 1.2633 - accuracy: 0.7034 - val_loss: 1.1609 - val_accuracy: 0.7323\n",
            "Epoch 10/20\n",
            "225/225 [==============================] - 1s 6ms/step - loss: 1.2290 - accuracy: 0.7081 - val_loss: 1.1492 - val_accuracy: 0.7401\n",
            "Epoch 11/20\n",
            "225/225 [==============================] - 1s 7ms/step - loss: 1.1945 - accuracy: 0.7147 - val_loss: 1.1281 - val_accuracy: 0.7401\n",
            "Epoch 12/20\n",
            "225/225 [==============================] - 2s 7ms/step - loss: 1.1666 - accuracy: 0.7170 - val_loss: 1.1219 - val_accuracy: 0.7407\n",
            "Epoch 13/20\n",
            "225/225 [==============================] - 1s 7ms/step - loss: 1.1062 - accuracy: 0.7318 - val_loss: 1.1026 - val_accuracy: 0.7468\n",
            "Epoch 14/20\n",
            "225/225 [==============================] - 2s 7ms/step - loss: 1.0949 - accuracy: 0.7325 - val_loss: 1.0923 - val_accuracy: 0.7446\n",
            "Epoch 15/20\n",
            "225/225 [==============================] - 2s 8ms/step - loss: 1.0763 - accuracy: 0.7376 - val_loss: 1.0822 - val_accuracy: 0.7535\n",
            "Epoch 16/20\n",
            "225/225 [==============================] - 2s 8ms/step - loss: 1.0685 - accuracy: 0.7371 - val_loss: 1.0725 - val_accuracy: 0.7557\n",
            "Epoch 17/20\n",
            "225/225 [==============================] - 1s 6ms/step - loss: 1.0162 - accuracy: 0.7495 - val_loss: 1.0542 - val_accuracy: 0.7590\n",
            "Epoch 18/20\n",
            "225/225 [==============================] - 1s 6ms/step - loss: 1.0036 - accuracy: 0.7517 - val_loss: 1.0516 - val_accuracy: 0.7646\n",
            "Epoch 19/20\n",
            "225/225 [==============================] - 1s 6ms/step - loss: 0.9813 - accuracy: 0.7545 - val_loss: 1.0304 - val_accuracy: 0.7679\n",
            "Epoch 20/20\n",
            "225/225 [==============================] - 1s 6ms/step - loss: 0.9607 - accuracy: 0.7620 - val_loss: 1.0385 - val_accuracy: 0.7685\n"
          ]
        }
      ]
    },
    {
      "cell_type": "code",
      "metadata": {
        "id": "WE6c1PHIbybn",
        "colab": {
          "base_uri": "https://localhost:8080/",
          "height": 494
        },
        "outputId": "75b9e12c-acfe-4d5e-b7b2-e35ea0a64515"
      },
      "source": [
        "import matplotlib.pyplot as plt\n",
        "# Muestro gráfica de accuracy y losses\n",
        "plt.style.use(\"ggplot\")\n",
        "plt.figure()\n",
        "plt.plot(np.arange(0, 20), H.history[\"loss\"], label=\"train_loss\")\n",
        "plt.plot(np.arange(0, 20), H.history[\"val_loss\"], label=\"val_loss\")\n",
        "plt.plot(np.arange(0, 20), H.history[\"accuracy\"], label=\"train_acc\")\n",
        "plt.plot(np.arange(0, 20), H.history[\"val_accuracy\"], label=\"val_acc\")\n",
        "plt.title(\"Training Loss and Accuracy\")\n",
        "plt.xlabel(\"Epoch #\")\n",
        "plt.ylabel(\"Loss/Accuracy\")\n",
        "plt.legend()"
      ],
      "execution_count": 56,
      "outputs": [
        {
          "output_type": "execute_result",
          "data": {
            "text/plain": [
              "<matplotlib.legend.Legend at 0x7feba4e8a770>"
            ]
          },
          "metadata": {},
          "execution_count": 56
        },
        {
          "output_type": "display_data",
          "data": {
            "text/plain": [
              "<Figure size 640x480 with 1 Axes>"
            ],
            "image/png": "[encoded data removed]"
          },
          "metadata": {}
        }
      ]
    },
    {
      "cell_type": "code",
      "metadata": {
        "id": "7AY7mJ3mb1C1",
        "colab": {
          "base_uri": "https://localhost:8080/"
        },
        "outputId": "b642b58d-02b1-4876-ddfd-7521f0c421dc"
      },
      "source": [
        "# Evaluando el modelo de predicción con las imágenes de test\n",
        "print(\"[INFO]: Evaluando red neuronal...\")\n",
        "model_bn.predict(x_test)\n",
        "loss, accuracy = model_bn.evaluate(x_test, y_test)\n",
        "print('Loss {}, accuracy {}'.format(loss,accuracy))"
      ],
      "execution_count": 57,
      "outputs": [
        {
          "output_type": "stream",
          "name": "stdout",
          "text": [
            "[INFO]: Evaluando red neuronal...\n",
            "71/71 [==============================] - 0s 3ms/step\n",
            "71/71 [==============================] - 0s 3ms/step - loss: 1.0824 - accuracy: 0.7560\n",
            "Loss 1.0824488401412964, accuracy 0.7560107111930847\n"
          ]
        }
      ]
    },
    {
      "cell_type": "code",
      "source": [],
      "metadata": {
        "id": "oGa0RXe8Ysnv"
      },
      "execution_count": 40,
      "outputs": []
    }
  ]
}